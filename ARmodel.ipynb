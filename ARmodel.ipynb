{
 "cells": [
  {
   "cell_type": "code",
   "execution_count": 1,
   "metadata": {},
   "outputs": [],
   "source": [
    "import pandas as pd\n",
    "import numpy as np\n",
    "from sklearn.metrics import r2_score\n",
    "import matplotlib.pyplot as plt\n",
    "import random"
   ]
  },
  {
   "cell_type": "code",
   "execution_count": 2,
   "metadata": {},
   "outputs": [
    {
     "data": {
      "text/html": [
       "<div>\n",
       "<style scoped>\n",
       "    .dataframe tbody tr th:only-of-type {\n",
       "        vertical-align: middle;\n",
       "    }\n",
       "\n",
       "    .dataframe tbody tr th {\n",
       "        vertical-align: top;\n",
       "    }\n",
       "\n",
       "    .dataframe thead th {\n",
       "        text-align: right;\n",
       "    }\n",
       "</style>\n",
       "<table border=\"1\" class=\"dataframe\">\n",
       "  <thead>\n",
       "    <tr style=\"text-align: right;\">\n",
       "      <th></th>\n",
       "      <th>x</th>\n",
       "      <th>y</th>\n",
       "    </tr>\n",
       "  </thead>\n",
       "  <tbody>\n",
       "    <tr>\n",
       "      <th>0</th>\n",
       "      <td>0</td>\n",
       "      <td>71859</td>\n",
       "    </tr>\n",
       "    <tr>\n",
       "      <th>1</th>\n",
       "      <td>1</td>\n",
       "      <td>74156</td>\n",
       "    </tr>\n",
       "    <tr>\n",
       "      <th>2</th>\n",
       "      <td>2</td>\n",
       "      <td>75691</td>\n",
       "    </tr>\n",
       "    <tr>\n",
       "      <th>3</th>\n",
       "      <td>3</td>\n",
       "      <td>76325</td>\n",
       "    </tr>\n",
       "    <tr>\n",
       "      <th>4</th>\n",
       "      <td>4</td>\n",
       "      <td>75962</td>\n",
       "    </tr>\n",
       "  </tbody>\n",
       "</table>\n",
       "</div>"
      ],
      "text/plain": [
       "   x      y\n",
       "0  0  71859\n",
       "1  1  74156\n",
       "2  2  75691\n",
       "3  3  76325\n",
       "4  4  75962"
      ]
     },
     "execution_count": 2,
     "metadata": {},
     "output_type": "execute_result"
    }
   ],
   "source": [
    "# csvファイルからPandas DataFrameへ読み込み\n",
    "data = pd.read_csv('sample_2.csv', delimiter=',', low_memory=False, header=None)\n",
    "data.columns = ['x', 'y']\n",
    "\n",
    "# 冒頭を表示して確認\n",
    "data.head()"
   ]
  },
  {
   "cell_type": "code",
   "execution_count": 3,
   "metadata": {},
   "outputs": [
    {
     "data": {
      "text/plain": [
       "<matplotlib.axes._subplots.AxesSubplot at 0x7feea59f0460>"
      ]
     },
     "execution_count": 3,
     "metadata": {},
     "output_type": "execute_result"
    },
    {
     "data": {
      "image/png": "[encoded data removed]",
      "text/plain": [
       "<Figure size 432x288 with 1 Axes>"
      ]
     },
     "metadata": {
      "needs_background": "light"
     },
     "output_type": "display_data"
    }
   ],
   "source": [
    "data.y.plot()"
   ]
  },
  {
   "cell_type": "code",
   "execution_count": 4,
   "metadata": {},
   "outputs": [],
   "source": [
    "# 30日分のデータを１塊とした窓を作る\n",
    "n_prev = 30\n",
    "def _load_data(split_data):\n",
    "    docX, docY = [], []\n",
    "    for i in range(len(split_data)-n_prev):\n",
    "        docX.append(split_data.iloc[i:i+n_prev])\n",
    "        docY.append(split_data.iloc[i+n_prev])\n",
    "    alsX = np.array(docX)\n",
    "    alsY = np.array(docY)\n",
    "    \n",
    "    return pd.DataFrame(alsX), pd.DataFrame(alsY)"
   ]
  },
  {
   "cell_type": "code",
   "execution_count": 5,
   "metadata": {},
   "outputs": [],
   "source": [
    "# データを訓練データと検証データに分割する\n",
    "def split_data(split_num):\n",
    "    x_train, y_train = _load_data(data.y.iloc[0:split_num])\n",
    "    x_test, y_test = _load_data(data.y.iloc[split_num-n_prev:split_num+1])\n",
    "\n",
    "    return x_train, y_train, x_test, y_test"
   ]
  },
  {
   "cell_type": "code",
   "execution_count": 6,
   "metadata": {},
   "outputs": [],
   "source": [
    "# sklearnで重回帰分析\n",
    "from sklearn.linear_model import LinearRegression\n",
    "\n",
    "# モデルを構築する\n",
    "def model_set(x_train, y_train):\n",
    "    # モデルを作成する\n",
    "    model = LinearRegression()\n",
    "    # 学習\n",
    "    model.fit(x_train, y_train)\n",
    "\n",
    "    return model"
   ]
  },
  {
   "cell_type": "code",
   "execution_count": 7,
   "metadata": {},
   "outputs": [],
   "source": [
    "# 自己回帰モデルを構築し予測を行う\n",
    "Y_test_pred_lst = np.array([])\n",
    "for day in range(100,200):\n",
    "    # データを分割する\n",
    "    x_train, y_train, x_test, y_test = split_data(day)\n",
    "    \n",
    "    # 重回帰分析によるモデルを構築\n",
    "    model = model_set(x_train, y_train)\n",
    "    \n",
    "    # 学習データへの適用結果の誤差の分散を求め、εtを求める\n",
    "    Y_train_pred_lst = np.array([])\n",
    "    for i in range(len(x_train)):\n",
    "        Y_train_pred = model.predict(x_train[i:i+1])\n",
    "        Y_train_pred_lst = np.append(Y_train_pred_lst, Y_train_pred)\n",
    "    εt = np.var(y_train.T.values - Y_train_pred_lst) * random.random()\n",
    "    \n",
    "    # 自己回帰モデルで予測する\n",
    "    Y_test_pred = model.predict(x_test) + εt\n",
    "    \n",
    "    # 結果を格納\n",
    "    Y_test_pred_lst = np.append(Y_test_pred_lst, Y_test_pred)"
   ]
  },
  {
   "cell_type": "code",
   "execution_count": 8,
   "metadata": {},
   "outputs": [
    {
     "name": "stdout",
     "output_type": "stream",
     "text": [
      "r2: 1.000\n"
     ]
    },
    {
     "data": {
      "text/plain": [
       "73.13435353176101"
      ]
     },
     "execution_count": 8,
     "metadata": {},
     "output_type": "execute_result"
    }
   ],
   "source": [
    "# 正解データ\n",
    "Y_test_lst = data.y.iloc[100:]\n",
    "\n",
    "# 検証データへの精度\n",
    "print('r2: %.3f' % r2_score(Y_test_pred_lst, Y_test_lst))\n",
    "\n",
    "# ユークリッド距離での誤差\n",
    "score = np.array([abs(p-t) for p,t in zip(Y_test_pred_lst, Y_test_lst)])\n",
    "np.sum(score)"
   ]
  },
  {
   "cell_type": "code",
   "execution_count": 9,
   "metadata": {},
   "outputs": [
    {
     "data": {
      "text/plain": [
       "<matplotlib.axes._subplots.AxesSubplot at 0x7feea5c7d220>"
      ]
     },
     "execution_count": 9,
     "metadata": {},
     "output_type": "execute_result"
    },
    {
     "data": {
      "image/png": "[encoded data removed]",
      "text/plain": [
       "<Figure size 432x288 with 1 Axes>"
      ]
     },
     "metadata": {
      "needs_background": "light"
     },
     "output_type": "display_data"
    }
   ],
   "source": [
    "# 実績と比較\n",
    "dataf =  pd.DataFrame(Y_test_pred_lst)\n",
    "dataf.columns = [\"predict\"]\n",
    "dataf[\"Stock price\"] = Y_test_lst\n",
    "dataf.plot()"
   ]
  },
  {
   "cell_type": "code",
   "execution_count": null,
   "metadata": {},
   "outputs": [],
   "source": []
  }
 ],
 "metadata": {
  "kernelspec": {
   "display_name": "Python 3",
   "language": "python",
   "name": "python3"
  },
  "language_info": {
   "codemirror_mode": {
    "name": "ipython",
    "version": 3
   },
   "file_extension": ".py",
   "mimetype": "text/x-python",
   "name": "python",
   "nbconvert_exporter": "python",
   "pygments_lexer": "ipython3",
   "version": "3.8.3"
  }
 },
 "nbformat": 4,
 "nbformat_minor": 4
}
